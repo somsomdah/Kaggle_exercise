{
  "nbformat": 4,
  "nbformat_minor": 0,
  "metadata": {
    "colab": {
      "name": "State-Farm-Distracted-Driver-Detection.ipynb",
      "provenance": [],
      "authorship_tag": "ABX9TyN3Pmk1Qm/mm4yLrxt98i8N",
      "include_colab_link": true
    },
    "kernelspec": {
      "name": "python3",
      "display_name": "Python 3"
    },
    "accelerator": "GPU"
  },
  "cells": [
    {
      "cell_type": "markdown",
      "metadata": {
        "id": "view-in-github",
        "colab_type": "text"
      },
      "source": [
        "<a href=\"https://colab.research.google.com/github/somsomdah/Kaggle_exercise/blob/master/State_Farm_Distracted_Driver_Detection.ipynb\" target=\"_parent\"><img src=\"https://colab.research.google.com/assets/colab-badge.svg\" alt=\"Open In Colab\"/></a>"
      ]
    },
    {
      "cell_type": "code",
      "metadata": {
        "id": "isocDGN8QR_g",
        "colab_type": "code",
        "colab": {}
      },
      "source": [
        "!pip install --upgrade kaggle\n",
        "!mkdir -p ~/.kaggle\n",
        "!cp kaggle.json ~/.kaggle/"
      ],
      "execution_count": null,
      "outputs": []
    },
    {
      "cell_type": "code",
      "metadata": {
        "id": "AxeksTbRQo5t",
        "colab_type": "code",
        "colab": {}
      },
      "source": [
        "!kaggle competitions download -c state-farm-distracted-driver-detection"
      ],
      "execution_count": null,
      "outputs": []
    },
    {
      "cell_type": "code",
      "metadata": {
        "id": "6Wa7e7J3Qsv6",
        "colab_type": "code",
        "colab": {}
      },
      "source": [
        "!unzip state-farm-distracted-driver-detection.zip"
      ],
      "execution_count": null,
      "outputs": []
    },
    {
      "cell_type": "code",
      "metadata": {
        "id": "eN6FISP1RIFz",
        "colab_type": "code",
        "colab": {}
      },
      "source": [
        "import tensorflow as tf\n",
        "import numpy as np\n",
        "import pandas as pd\n",
        "import matplotlib.pyplot as plt\n",
        "import PIL.Image as Image\n",
        "import cv2\n",
        "import os"
      ],
      "execution_count": 1,
      "outputs": []
    },
    {
      "cell_type": "code",
      "metadata": {
        "id": "DAQaTgzwRqI9",
        "colab_type": "code",
        "colab": {}
      },
      "source": [
        "imlist=pd.read_csv(\"driver_imgs_list.csv\")"
      ],
      "execution_count": 2,
      "outputs": []
    },
    {
      "cell_type": "code",
      "metadata": {
        "id": "OwxdHmkqR88S",
        "colab_type": "code",
        "colab": {
          "base_uri": "https://localhost:8080/",
          "height": 399
        },
        "outputId": "595299d8-a51a-4d54-b270-29d17f1ec84f"
      },
      "source": [
        "imlist"
      ],
      "execution_count": 3,
      "outputs": [
        {
          "output_type": "execute_result",
          "data": {
            "text/html": [
              "<div>\n",
              "<style scoped>\n",
              "    .dataframe tbody tr th:only-of-type {\n",
              "        vertical-align: middle;\n",
              "    }\n",
              "\n",
              "    .dataframe tbody tr th {\n",
              "        vertical-align: top;\n",
              "    }\n",
              "\n",
              "    .dataframe thead th {\n",
              "        text-align: right;\n",
              "    }\n",
              "</style>\n",
              "<table border=\"1\" class=\"dataframe\">\n",
              "  <thead>\n",
              "    <tr style=\"text-align: right;\">\n",
              "      <th></th>\n",
              "      <th>subject</th>\n",
              "      <th>classname</th>\n",
              "      <th>img</th>\n",
              "    </tr>\n",
              "  </thead>\n",
              "  <tbody>\n",
              "    <tr>\n",
              "      <th>0</th>\n",
              "      <td>p002</td>\n",
              "      <td>c0</td>\n",
              "      <td>img_44733.jpg</td>\n",
              "    </tr>\n",
              "    <tr>\n",
              "      <th>1</th>\n",
              "      <td>p002</td>\n",
              "      <td>c0</td>\n",
              "      <td>img_72999.jpg</td>\n",
              "    </tr>\n",
              "    <tr>\n",
              "      <th>2</th>\n",
              "      <td>p002</td>\n",
              "      <td>c0</td>\n",
              "      <td>img_25094.jpg</td>\n",
              "    </tr>\n",
              "    <tr>\n",
              "      <th>3</th>\n",
              "      <td>p002</td>\n",
              "      <td>c0</td>\n",
              "      <td>img_69092.jpg</td>\n",
              "    </tr>\n",
              "    <tr>\n",
              "      <th>4</th>\n",
              "      <td>p002</td>\n",
              "      <td>c0</td>\n",
              "      <td>img_92629.jpg</td>\n",
              "    </tr>\n",
              "    <tr>\n",
              "      <th>...</th>\n",
              "      <td>...</td>\n",
              "      <td>...</td>\n",
              "      <td>...</td>\n",
              "    </tr>\n",
              "    <tr>\n",
              "      <th>22419</th>\n",
              "      <td>p081</td>\n",
              "      <td>c9</td>\n",
              "      <td>img_56936.jpg</td>\n",
              "    </tr>\n",
              "    <tr>\n",
              "      <th>22420</th>\n",
              "      <td>p081</td>\n",
              "      <td>c9</td>\n",
              "      <td>img_46218.jpg</td>\n",
              "    </tr>\n",
              "    <tr>\n",
              "      <th>22421</th>\n",
              "      <td>p081</td>\n",
              "      <td>c9</td>\n",
              "      <td>img_25946.jpg</td>\n",
              "    </tr>\n",
              "    <tr>\n",
              "      <th>22422</th>\n",
              "      <td>p081</td>\n",
              "      <td>c9</td>\n",
              "      <td>img_67850.jpg</td>\n",
              "    </tr>\n",
              "    <tr>\n",
              "      <th>22423</th>\n",
              "      <td>p081</td>\n",
              "      <td>c9</td>\n",
              "      <td>img_9684.jpg</td>\n",
              "    </tr>\n",
              "  </tbody>\n",
              "</table>\n",
              "<p>22424 rows × 3 columns</p>\n",
              "</div>"
            ],
            "text/plain": [
              "      subject classname            img\n",
              "0        p002        c0  img_44733.jpg\n",
              "1        p002        c0  img_72999.jpg\n",
              "2        p002        c0  img_25094.jpg\n",
              "3        p002        c0  img_69092.jpg\n",
              "4        p002        c0  img_92629.jpg\n",
              "...       ...       ...            ...\n",
              "22419    p081        c9  img_56936.jpg\n",
              "22420    p081        c9  img_46218.jpg\n",
              "22421    p081        c9  img_25946.jpg\n",
              "22422    p081        c9  img_67850.jpg\n",
              "22423    p081        c9   img_9684.jpg\n",
              "\n",
              "[22424 rows x 3 columns]"
            ]
          },
          "metadata": {
            "tags": []
          },
          "execution_count": 3
        }
      ]
    },
    {
      "cell_type": "code",
      "metadata": {
        "id": "DwseverDR9ts",
        "colab_type": "code",
        "colab": {}
      },
      "source": [
        "trainX=[]\n",
        "trainY=[]"
      ],
      "execution_count": 4,
      "outputs": []
    },
    {
      "cell_type": "code",
      "metadata": {
        "id": "t2bytzdJSxoB",
        "colab_type": "code",
        "colab": {
          "base_uri": "https://localhost:8080/",
          "height": 195
        },
        "outputId": "664a4e4a-bb9e-4cd3-b173-a3e21749bd9e"
      },
      "source": [
        "for i,dir in enumerate(os.listdir('./imgs/train')):\n",
        "    count=0\n",
        "    print(dir)\n",
        "    for file in os.listdir('./imgs/train/'+dir):\n",
        "        if count>=500:\n",
        "            break\n",
        "        trainY.append(i)\n",
        "        \n",
        "        img=cv2.imread('./imgs/train/'+dir+'/'+file)\n",
        "        img=cv2.resize(img,dsize=(224,224))\n",
        "        img=img/255.0\n",
        "        trainX.append(img)\n",
        "        count+=1\n",
        "\n",
        "trainX=np.array(trainX)\n",
        "trainY=np.array(trainY)"
      ],
      "execution_count": 5,
      "outputs": [
        {
          "output_type": "stream",
          "text": [
            "c4\n",
            "c1\n",
            "c6\n",
            "c5\n",
            "c2\n",
            "c7\n",
            "c8\n",
            "c0\n",
            "c9\n",
            "c3\n"
          ],
          "name": "stdout"
        }
      ]
    },
    {
      "cell_type": "code",
      "metadata": {
        "id": "N9HMYqF-Tw0F",
        "colab_type": "code",
        "colab": {
          "base_uri": "https://localhost:8080/",
          "height": 35
        },
        "outputId": "2119b568-7ae9-4e85-e062-9dbeff5b6537"
      },
      "source": [
        "print(trainX.shape,trainY.shape)"
      ],
      "execution_count": 7,
      "outputs": [
        {
          "output_type": "stream",
          "text": [
            "(4000, 224, 224, 3) (4000,)\n"
          ],
          "name": "stdout"
        }
      ]
    },
    {
      "cell_type": "code",
      "metadata": {
        "id": "tj0E-8r1XRBF",
        "colab_type": "code",
        "colab": {}
      },
      "source": [
        "from sklearn.model_selection import train_test_split\n",
        "\n",
        "trainX,valX,trainY,valY=train_test_split(trainX,trainY,test_size=0.2)"
      ],
      "execution_count": 6,
      "outputs": []
    },
    {
      "cell_type": "code",
      "metadata": {
        "id": "c0IMu9xodelf",
        "colab_type": "code",
        "colab": {}
      },
      "source": [
        "datagen=tf.keras.preprocessing.image.ImageDataGenerator() #data augmentation\n",
        "datagen.fit(trainX)"
      ],
      "execution_count": 8,
      "outputs": []
    },
    {
      "cell_type": "code",
      "metadata": {
        "id": "e6nMz-kUeILQ",
        "colab_type": "code",
        "colab": {}
      },
      "source": [
        "mobilenetv2=tf.keras.applications.MobileNetV2()\n",
        "x=mobilenetv2.layers[-2].output\n",
        "predictions=tf.keras.layers.Dense(10,activation='softmax')(x)\n",
        "model=tf.keras.Model(inputs=mobilenetv2.input,outputs=predictions)  \n",
        "\n",
        "for layer in model.layers[:-10]:\n",
        "    layer.trainable=False\n",
        "for layer in model.layers[-10:]:\n",
        "    layer.trainable=True"
      ],
      "execution_count": 9,
      "outputs": []
    },
    {
      "cell_type": "code",
      "metadata": {
        "id": "TEf6fKTKfyzm",
        "colab_type": "code",
        "colab": {}
      },
      "source": [
        "model.compile(loss='sparse_categorical_crossentropy', optimizer='adam',metrics=['accuracy']) #compile model"
      ],
      "execution_count": 10,
      "outputs": []
    },
    {
      "cell_type": "code",
      "metadata": {
        "id": "zOWJ0uOue_gd",
        "colab_type": "code",
        "colab": {
          "base_uri": "https://localhost:8080/",
          "height": 1000
        },
        "outputId": "c2013419-43f2-4b35-f666-23a6ea21279e"
      },
      "source": [
        "history=model.fit_generator(datagen.flow(trainX,trainY,batch_size=32), epochs=30,validation_data=(valX,valY))"
      ],
      "execution_count": 11,
      "outputs": [
        {
          "output_type": "stream",
          "text": [
            "WARNING:tensorflow:From <ipython-input-11-16b633b1a8a2>:1: Model.fit_generator (from tensorflow.python.keras.engine.training) is deprecated and will be removed in a future version.\n",
            "Instructions for updating:\n",
            "Please use Model.fit, which supports generators.\n",
            "Epoch 1/30\n",
            "125/125 [==============================] - 8s 64ms/step - loss: 0.5393 - accuracy: 0.8303 - val_loss: 4.4253 - val_accuracy: 0.5470\n",
            "Epoch 2/30\n",
            "125/125 [==============================] - 7s 54ms/step - loss: 0.0752 - accuracy: 0.9800 - val_loss: 6.5677 - val_accuracy: 0.4530\n",
            "Epoch 3/30\n",
            "125/125 [==============================] - 7s 54ms/step - loss: 0.0338 - accuracy: 0.9923 - val_loss: 5.5785 - val_accuracy: 0.4340\n",
            "Epoch 4/30\n",
            "125/125 [==============================] - 7s 54ms/step - loss: 0.0167 - accuracy: 0.9962 - val_loss: 6.4277 - val_accuracy: 0.3650\n",
            "Epoch 5/30\n",
            "125/125 [==============================] - 7s 54ms/step - loss: 0.0189 - accuracy: 0.9952 - val_loss: 5.5847 - val_accuracy: 0.4630\n",
            "Epoch 6/30\n",
            "125/125 [==============================] - 7s 54ms/step - loss: 0.0231 - accuracy: 0.9935 - val_loss: 4.5431 - val_accuracy: 0.4960\n",
            "Epoch 7/30\n",
            "125/125 [==============================] - 7s 54ms/step - loss: 0.0314 - accuracy: 0.9918 - val_loss: 7.5176 - val_accuracy: 0.4350\n",
            "Epoch 8/30\n",
            "125/125 [==============================] - 7s 54ms/step - loss: 0.0292 - accuracy: 0.9905 - val_loss: 4.3903 - val_accuracy: 0.6080\n",
            "Epoch 9/30\n",
            "125/125 [==============================] - 7s 55ms/step - loss: 0.0260 - accuracy: 0.9910 - val_loss: 4.1167 - val_accuracy: 0.5230\n",
            "Epoch 10/30\n",
            "125/125 [==============================] - 7s 55ms/step - loss: 0.0245 - accuracy: 0.9940 - val_loss: 2.2120 - val_accuracy: 0.6840\n",
            "Epoch 11/30\n",
            "125/125 [==============================] - 7s 55ms/step - loss: 0.0236 - accuracy: 0.9933 - val_loss: 6.5635 - val_accuracy: 0.4100\n",
            "Epoch 12/30\n",
            "125/125 [==============================] - 7s 55ms/step - loss: 0.0124 - accuracy: 0.9970 - val_loss: 2.3998 - val_accuracy: 0.6490\n",
            "Epoch 13/30\n",
            "125/125 [==============================] - 7s 54ms/step - loss: 0.0022 - accuracy: 0.9998 - val_loss: 1.6702 - val_accuracy: 0.7390\n",
            "Epoch 14/30\n",
            "125/125 [==============================] - 7s 54ms/step - loss: 0.0011 - accuracy: 0.9998 - val_loss: 1.0520 - val_accuracy: 0.8000\n",
            "Epoch 15/30\n",
            "125/125 [==============================] - 7s 54ms/step - loss: 5.9925e-04 - accuracy: 1.0000 - val_loss: 0.6217 - val_accuracy: 0.8690\n",
            "Epoch 16/30\n",
            "125/125 [==============================] - 7s 54ms/step - loss: 4.1255e-04 - accuracy: 1.0000 - val_loss: 0.3815 - val_accuracy: 0.9120\n",
            "Epoch 17/30\n",
            "125/125 [==============================] - 7s 54ms/step - loss: 0.0035 - accuracy: 0.9992 - val_loss: 0.9768 - val_accuracy: 0.8270\n",
            "Epoch 18/30\n",
            "125/125 [==============================] - 7s 54ms/step - loss: 0.0134 - accuracy: 0.9960 - val_loss: 6.4879 - val_accuracy: 0.4060\n",
            "Epoch 19/30\n",
            "125/125 [==============================] - 7s 54ms/step - loss: 0.0939 - accuracy: 0.9735 - val_loss: 17.0805 - val_accuracy: 0.2450\n",
            "Epoch 20/30\n",
            "125/125 [==============================] - 7s 55ms/step - loss: 0.0751 - accuracy: 0.9753 - val_loss: 14.4926 - val_accuracy: 0.2860\n",
            "Epoch 21/30\n",
            "125/125 [==============================] - 7s 54ms/step - loss: 0.0146 - accuracy: 0.9960 - val_loss: 6.3509 - val_accuracy: 0.4920\n",
            "Epoch 22/30\n",
            "125/125 [==============================] - 7s 55ms/step - loss: 0.0051 - accuracy: 0.9987 - val_loss: 1.6854 - val_accuracy: 0.7390\n",
            "Epoch 23/30\n",
            "125/125 [==============================] - 7s 54ms/step - loss: 0.0019 - accuracy: 0.9992 - val_loss: 1.5925 - val_accuracy: 0.7670\n",
            "Epoch 24/30\n",
            "125/125 [==============================] - 7s 57ms/step - loss: 0.0013 - accuracy: 0.9998 - val_loss: 1.1033 - val_accuracy: 0.8010\n",
            "Epoch 25/30\n",
            "125/125 [==============================] - 7s 54ms/step - loss: 0.0164 - accuracy: 0.9965 - val_loss: 1.1108 - val_accuracy: 0.8300\n",
            "Epoch 26/30\n",
            "125/125 [==============================] - 7s 54ms/step - loss: 0.0239 - accuracy: 0.9930 - val_loss: 1.9625 - val_accuracy: 0.7390\n",
            "Epoch 27/30\n",
            "125/125 [==============================] - 7s 55ms/step - loss: 0.0142 - accuracy: 0.9950 - val_loss: 3.5385 - val_accuracy: 0.6300\n",
            "Epoch 28/30\n",
            "125/125 [==============================] - 7s 54ms/step - loss: 0.0158 - accuracy: 0.9958 - val_loss: 1.8130 - val_accuracy: 0.7900\n",
            "Epoch 29/30\n",
            "125/125 [==============================] - 7s 55ms/step - loss: 0.0049 - accuracy: 0.9985 - val_loss: 1.2763 - val_accuracy: 0.8430\n",
            "Epoch 30/30\n",
            "125/125 [==============================] - 7s 54ms/step - loss: 0.0039 - accuracy: 0.9990 - val_loss: 1.0204 - val_accuracy: 0.8460\n"
          ],
          "name": "stdout"
        }
      ]
    },
    {
      "cell_type": "code",
      "metadata": {
        "id": "aBL1qe6OfngO",
        "colab_type": "code",
        "colab": {
          "base_uri": "https://localhost:8080/",
          "height": 334
        },
        "outputId": "84312c35-7dcf-4855-f36b-b1144bf61037"
      },
      "source": [
        "plt.figure(figsize=(10,5))\n",
        "\n",
        "plt.subplot(1,2,1)\n",
        "train_acc = history.history['accuracy']\n",
        "val_acc = history.history['val_accuracy']\n",
        "plt.plot(train_acc,label = \"Training\")\n",
        "plt.plot(val_acc,label = 'Validation')\n",
        "plt.legend()\n",
        "plt.xlabel('Epochs')\n",
        "plt.ylabel('Accuracy')\n",
        "\n",
        "plt.subplot(1,2,2)\n",
        "train_loss = history.history['loss']\n",
        "val_loss = history.history['val_loss']\n",
        "plt.plot(train_loss,label = 'Training')\n",
        "plt.plot(val_loss,label = 'Validation')\n",
        "plt.legend()\n",
        "plt.xlabel('Epochs')\n",
        "plt.ylabel('Loss')\n",
        "plt.show()"
      ],
      "execution_count": 12,
      "outputs": [
        {
          "output_type": "display_data",
          "data": {
            "image/png": "[encoded data removed]",
            "text/plain": [
              "<Figure size 720x360 with 2 Axes>"
            ]
          },
          "metadata": {
            "tags": [],
            "needs_background": "light"
          }
        }
      ]
    },
    {
      "cell_type": "code",
      "metadata": {
        "id": "HPtG186wgvDL",
        "colab_type": "code",
        "colab": {}
      },
      "source": [
        ""
      ],
      "execution_count": null,
      "outputs": []
    }
  ]
}
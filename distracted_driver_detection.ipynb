{
  "nbformat": 4,
  "nbformat_minor": 0,
  "metadata": {
    "colab": {
      "name": "distracted-driver-detection",
      "provenance": [],
      "collapsed_sections": [],
      "machine_shape": "hm"
    },
    "kernelspec": {
      "name": "python3",
      "display_name": "Python 3"
    },
    "accelerator": "GPU"
  },
  "cells": [
    {
      "cell_type": "code",
      "metadata": {
        "id": "C0BL7aYR1VJ1",
        "colab_type": "code",
        "outputId": "b8b40209-1ad5-43a2-e1e4-0b3dc9a779f4",
        "colab": {
          "base_uri": "https://localhost:8080/",
          "height": 125
        }
      },
      "source": [
        "from google.colab import drive\n",
        "drive.mount('/content/drive')"
      ],
      "execution_count": 0,
      "outputs": [
        {
          "output_type": "stream",
          "text": [
            "Go to this URL in a browser: https://accounts.google.com/o/oauth2/auth?client_id=947318989803-6bn6qk8qdgf4n4g3pfee6491hc0brc4i.apps.googleusercontent.com&redirect_uri=urn%3aietf%3awg%3aoauth%3a2.0%3aoob&response_type=code&scope=email%20https%3a%2f%2fwww.googleapis.com%2fauth%2fdocs.test%20https%3a%2f%2fwww.googleapis.com%2fauth%2fdrive%20https%3a%2f%2fwww.googleapis.com%2fauth%2fdrive.photos.readonly%20https%3a%2f%2fwww.googleapis.com%2fauth%2fpeopleapi.readonly\n",
            "\n",
            "Enter your authorization code:\n",
            "··········\n",
            "Mounted at /content/drive\n"
          ],
          "name": "stdout"
        }
      ]
    },
    {
      "cell_type": "code",
      "metadata": {
        "id": "qyhmx3SB4zPp",
        "colab_type": "code",
        "colab": {}
      },
      "source": [
        "#!mkdir -p drive/My\\ Drive/Colab\\ Notebooks/data/.kaggle\n",
        "#!cp kaggle.json drive/My\\ Drive/Colab\\ Notebooks/data/.kaggle/\n",
        "# Permission Warning 이 일어나지 않도록 \n",
        "#!chmod 600 drive/My\\ Drive/Colab\\ Notebooks/data/.kaggle/kaggle.json\n",
        "# 본인이 참가한 모든 대회 보기 \n",
        "#!kaggle competitions list"
      ],
      "execution_count": 0,
      "outputs": []
    },
    {
      "cell_type": "code",
      "metadata": {
        "id": "F-BecmoC1243",
        "colab_type": "code",
        "outputId": "76efdb13-0693-4c8c-ac4d-1577d9505f7d",
        "colab": {
          "base_uri": "https://localhost:8080/",
          "height": 34
        }
      },
      "source": [
        "!pwd"
      ],
      "execution_count": 0,
      "outputs": [
        {
          "output_type": "stream",
          "text": [
            "/content\n"
          ],
          "name": "stdout"
        }
      ]
    },
    {
      "cell_type": "code",
      "metadata": {
        "id": "sYhfWKuL1nJe",
        "colab_type": "code",
        "colab": {}
      },
      "source": [
        "#!cd drive/My\\ Drive/Colab\\ Notebooks/data; mkdir distracted-driver-detection"
      ],
      "execution_count": 0,
      "outputs": []
    },
    {
      "cell_type": "code",
      "metadata": {
        "id": "RRDotVCZhwzg",
        "colab_type": "code",
        "colab": {}
      },
      "source": [
        "#!cd drive/My\\ Drive/Colab\\ Notebooks/data/distracted-driver-detection; kaggle competitions download -c state-farm-distracted-driver-detection"
      ],
      "execution_count": 0,
      "outputs": []
    },
    {
      "cell_type": "code",
      "metadata": {
        "id": "j-2METpTiK44",
        "colab_type": "code",
        "colab": {}
      },
      "source": [
        "#!cd drive/My\\ Drive/Colab\\ Notebooks/data/distracted-driver-detection;unzip state-farm-distracted-driver-detection"
      ],
      "execution_count": 0,
      "outputs": []
    },
    {
      "cell_type": "code",
      "metadata": {
        "id": "O6afzuW2zgNe",
        "colab_type": "code",
        "outputId": "0538a807-fb7f-4089-82b2-9647670d9bad",
        "colab": {
          "base_uri": "https://localhost:8080/",
          "height": 105
        }
      },
      "source": [
        "!cd drive/My\\ Drive/Colab\\ Notebooks/data/distracted-driver-detection; ls -l"
      ],
      "execution_count": 0,
      "outputs": [
        {
          "output_type": "stream",
          "text": [
            "total 8\n",
            "drwx------ 2 root root 4096 Feb 13 14:06 imgs\n",
            "-rw------- 1 root root    0 Feb 15 18:13 my_checkpoint.data-00000-of-00002\n",
            "-rw------- 1 root root    0 Feb 15 18:13 my_checkpoint.data-00001-of-00002\n",
            "drwx------ 2 root root 4096 Feb 15 18:13 my_checkpoint_temp_ab66df4e71234964a58b92daa037790a\n"
          ],
          "name": "stdout"
        }
      ]
    },
    {
      "cell_type": "code",
      "metadata": {
        "id": "e-xmY95ivTQ-",
        "colab_type": "code",
        "outputId": "4fcb4978-786d-4bd2-faae-49e1f49a8465",
        "colab": {
          "base_uri": "https://localhost:8080/",
          "height": 34
        }
      },
      "source": [
        "%tensorflow_version 2.x\n",
        "\n",
        "import tensorflow as tf\n",
        "import numpy as np\n",
        "import matplotlib.pyplot as plt\n",
        "import cv2\n",
        "import os"
      ],
      "execution_count": 0,
      "outputs": [
        {
          "output_type": "stream",
          "text": [
            "TensorFlow 2.x selected.\n"
          ],
          "name": "stdout"
        }
      ]
    },
    {
      "cell_type": "code",
      "metadata": {
        "id": "oxrl8R9cIqVx",
        "colab_type": "code",
        "colab": {}
      },
      "source": [
        "sample_img=cv2.imread(\"drive/My Drive/Colab Notebooks/data/distracted-driver-detection/imgs/train/c0/img_34.jpg\",cv2.IMREAD_COLOR)"
      ],
      "execution_count": 0,
      "outputs": []
    },
    {
      "cell_type": "code",
      "metadata": {
        "id": "eKiSFzn0KsGz",
        "colab_type": "code",
        "outputId": "e2f47247-a4d0-4605-e9a8-87348aa35482",
        "colab": {
          "base_uri": "https://localhost:8080/",
          "height": 34
        }
      },
      "source": [
        "sample_img.shape"
      ],
      "execution_count": 0,
      "outputs": [
        {
          "output_type": "execute_result",
          "data": {
            "text/plain": [
              "(480, 640, 3)"
            ]
          },
          "metadata": {
            "tags": []
          },
          "execution_count": 10
        }
      ]
    },
    {
      "cell_type": "code",
      "metadata": {
        "id": "muEG-XyU7801",
        "colab_type": "code",
        "colab": {}
      },
      "source": [
        "input_size=sample_img.shape"
      ],
      "execution_count": 0,
      "outputs": []
    },
    {
      "cell_type": "code",
      "metadata": {
        "id": "aJ_2I0PLpRNQ",
        "colab_type": "code",
        "outputId": "2dce8dda-c5d7-45ed-de68-3bf7a21f93d6",
        "colab": {
          "base_uri": "https://localhost:8080/",
          "height": 34
        }
      },
      "source": [
        "import random\n",
        "\n",
        "train_X=np.empty((0,input_size[0],input_size[1],3))\n",
        "train_Y=np.empty((0,1))\n",
        "\n",
        "max_count=300\n",
        "\n",
        "for i in range(10):\n",
        "  dirname='drive/My Drive/Colab Notebooks/data/distracted-driver-detection/imgs/train/c'+str(i)+'/'\n",
        "  filenames = os.listdir(dirname)\n",
        "  random.shuffle(filenames)\n",
        "  count=0\n",
        "  for filename in filenames:\n",
        "    \n",
        "    full_filename = os.path.join(dirname, filename)\n",
        "    image_array=cv2.imread(full_filename,cv2.IMREAD_COLOR)\n",
        "    #image_array = cv2.resize(image_array, dsize=(input_size[1], input_size[0]), interpolation=cv2.INTER_LINEAR)\n",
        "\n",
        "    train_X=np.append(train_X,np.array([image_array]),axis=0)\n",
        "    train_Y=np.append(train_Y,np.array([[i]]),axis=0)\n",
        "    count+=1\n",
        "\n",
        "    if count>=max_count:\n",
        "      break;\n",
        "\n",
        "  print(\"c\"+str(i)+\" all loaded!\")"
      ],
      "execution_count": 0,
      "outputs": [
        {
          "output_type": "stream",
          "text": [
            "c0 all loaded!\n"
          ],
          "name": "stdout"
        }
      ]
    },
    {
      "cell_type": "code",
      "metadata": {
        "id": "lPB8LsUOqDWb",
        "colab_type": "code",
        "colab": {}
      },
      "source": [
        "print(train_X.shape)\n",
        "print(train_Y.shape)"
      ],
      "execution_count": 0,
      "outputs": []
    },
    {
      "cell_type": "code",
      "metadata": {
        "id": "r7TJhmfz8pXg",
        "colab_type": "code",
        "colab": {}
      },
      "source": [
        "mask=np.arange(train_Y.shape[0])\n",
        "np.random.shuffle(mask)"
      ],
      "execution_count": 0,
      "outputs": []
    },
    {
      "cell_type": "code",
      "metadata": {
        "id": "xZh8U79xv_oR",
        "colab_type": "code",
        "colab": {}
      },
      "source": [
        "train_Y=train_Y[mask]\n",
        "train_X=train_X[mask]"
      ],
      "execution_count": 0,
      "outputs": []
    },
    {
      "cell_type": "code",
      "metadata": {
        "id": "iBmuggfpFvDJ",
        "colab_type": "code",
        "colab": {}
      },
      "source": [
        "np.save('drive/My Drive/Colab Notebooks/data/distracted-driver-detection/train_X',train_X)\n",
        "np.save('drive/My Drive/Colab Notebooks/data/distracted-driver-detection/train_Y',train_Y)\n",
        "!cd drive/My\\ Drive/Colab\\ Notebooks/data/distracted-driver-detection; ls -l"
      ],
      "execution_count": 0,
      "outputs": []
    },
    {
      "cell_type": "code",
      "metadata": {
        "id": "UKgazusr_P2v",
        "colab_type": "code",
        "colab": {}
      },
      "source": [
        "!cd drive/My\\ Drive/Colab\\ Notebooks/data/distracted-driver-detection; ls -l"
      ],
      "execution_count": 0,
      "outputs": []
    },
    {
      "cell_type": "code",
      "metadata": {
        "id": "W4E18TibOWr3",
        "colab_type": "code",
        "colab": {}
      },
      "source": [
        "test_X=np.empty((0,input_size[0],input_size[1],3))\n",
        "test_id=np.empty((0,1))\n",
        "\n",
        "\n",
        "testdir='drive/My Drive/Colab Notebooks/data/distracted-driver-detection/imgs/test/'\n",
        "filenames=os.listdir(testdir)\n",
        "random.shuffle(filenames)\n",
        "\n",
        "print(len(filenames))\n",
        "count=0\n",
        "\n",
        "for filename in filenames:\n",
        "  full_path=os.path.join(testdir,filename)\n",
        "  image_array=cv2.imread(full_filename,cv2.IMREAD_COLOR)\n",
        "  #image_array = cv2.resize(image_array, dsize=(input_size[1], input_size[0]), interpolation=cv2.INTER_LINEAR)\n",
        "\n",
        "  test_X=np.append(test_X,np.array([image_array]),axis=0)\n",
        "  test_id=np.append(test_id,np.array([[filename]]),axis=0)\n",
        "\n",
        "  count+=1\n",
        "  if count>=200:\n",
        "      break;\n",
        "\n",
        "print(test_X.shape)\n",
        "print(test_id.shape)"
      ],
      "execution_count": 0,
      "outputs": []
    },
    {
      "cell_type": "code",
      "metadata": {
        "id": "fIijpBAKQF3d",
        "colab_type": "code",
        "colab": {}
      },
      "source": [
        "np.save('drive/My Drive/Colab Notebooks/data/distracted-driver-detection/test_X',test_X)\n",
        "np.save('drive/My Drive/Colab Notebooks/data/distracted-driver-detection/test_id',test_id)"
      ],
      "execution_count": 0,
      "outputs": []
    },
    {
      "cell_type": "code",
      "metadata": {
        "id": "KocBmH_PBGVr",
        "colab_type": "code",
        "colab": {}
      },
      "source": [
        "!cd drive/My\\ Drive/Colab\\ Notebooks/data/distracted-driver-detection; ls -l"
      ],
      "execution_count": 0,
      "outputs": []
    },
    {
      "cell_type": "code",
      "metadata": {
        "id": "BZaH7kTkwOs1",
        "colab_type": "code",
        "colab": {}
      },
      "source": [
        "# vgg 16\n",
        "model=tf.keras.Sequential([\n",
        "                           tf.keras.layers.Conv2D(input_shape=(input_shape[0],input_shape[1],3),kernel_size=(3,3),filters=64,padding='same',activation='relu'),\n",
        "                           tf.keras.layers.Conv2D(kernel_size=(3,3),filters=64,padding='same',activation='relu'),\n",
        "                           tf.keras.layers.MaxPool2D(pool_size=(2,2)), \n",
        "                           tf.keras.layers.Dropout(rate=0.5),\n",
        "\n",
        "                           tf.keras.layers.Conv2D(kernel_size=(3,3),filters=128,padding='same',activation='relu'),\n",
        "                           tf.keras.layers.Conv2D(kernel_size=(3,3),filters=128,padding='same',activation='relu'),\n",
        "                           tf.keras.layers.MaxPool2D(pool_size=(2,2)),\n",
        "                           tf.keras.layers.Dropout(rate=0.5),\n",
        "\n",
        "                           tf.keras.layers.Conv2D(kernel_size=(3,3),filters=256,padding='same',activation='relu'),\n",
        "                           tf.keras.layers.Conv2D(kernel_size=(3,3),filters=256,padding='same',activation='relu'),\n",
        "                           tf.keras.layers.Conv2D(kernel_size=(3,3),filters=256,padding='same',activation='relu'),\n",
        "                           tf.keras.layers.MaxPool2D(pool_size=(2,2)),\n",
        "                           tf.keras.layers.Dropout(rate=0.5),\n",
        "\n",
        "                           tf.keras.layers.Conv2D(kernel_size=(3,3),filters=512,padding='same',activation='relu'),\n",
        "                           tf.keras.layers.Conv2D(kernel_size=(3,3),filters=512,padding='same',activation='relu'),\n",
        "                           tf.keras.layers.Conv2D(kernel_size=(3,3),filters=512,padding='same',activation='relu'),\n",
        "                           tf.keras.layers.MaxPool2D(pool_size=(2,2)),\n",
        "                           tf.keras.layers.Dropout(rate=0.5),\n",
        "\n",
        "                           tf.keras.layers.Conv2D(kernel_size=(3,3),filters=512,padding='same',activation='relu'),\n",
        "                           tf.keras.layers.Conv2D(kernel_size=(3,3),filters=512,padding='same',activation='relu'),\n",
        "                           tf.keras.layers.Conv2D(kernel_size=(3,3),filters=512,padding='same',activation='relu'),\n",
        "                           tf.keras.layers.MaxPool2D(pool_size=(2,2)),\n",
        "                           tf.keras.layers.Dropout(rate=0.5),\n",
        "\n",
        "                           tf.keras.layers.Flatten(),\n",
        "                           tf.keras.layers.Dense(units=4096,activation='relu'),\n",
        "                           tf.keras.layers.Dropout(rate=0.5),\n",
        "                           tf.keras.layers.Dense(units=4096,activation='relu'),\n",
        "                           tf.keras.layers.Dropout(rate=0.5),\n",
        "                           tf.keras.layers.Dense(units=10,activation='softmax')\n",
        "])\n",
        "\n",
        "model.compile(optimizer=tf.keras.optimizers.Adam(),loss='sparse_categorical_crossentropy',metrics=['accuracy'],)\n",
        "\n",
        "model.summary()"
      ],
      "execution_count": 0,
      "outputs": []
    },
    {
      "cell_type": "code",
      "metadata": {
        "id": "ummUAy2O0oe-",
        "colab_type": "code",
        "colab": {}
      },
      "source": [
        "history=model.fit(train_X,train_Y,epochs=300,validation_split=0.2)"
      ],
      "execution_count": 0,
      "outputs": []
    },
    {
      "cell_type": "code",
      "metadata": {
        "id": "3yW_Avdf02i7",
        "colab_type": "code",
        "colab": {}
      },
      "source": [
        "plt.figure(figsize=(12,4))\n",
        "\n",
        "plt.subplot(1,2,1)\n",
        "plt.plot(history.history['loss'],'b-',label='loss')\n",
        "plt.plot(history.history['val_loss'],'r--',label='val_loss')\n",
        "plt.ylim(0,1)\n",
        "plt.xlabel('epoch')\n",
        "plt.legend()\n",
        "\n",
        "plt.subplot(1,2,2)\n",
        "plt.plot(history.history['accuracy'],'g-',label='accuracy')\n",
        "plt.plot(history.history['val_accuracy'],'k--',label='val_accuracy')\n",
        "plt.ylim(0,1)\n",
        "plt.xlabel('epoch')\n",
        "plt.legend()\n",
        "\n",
        "plt.show()"
      ],
      "execution_count": 0,
      "outputs": []
    },
    {
      "cell_type": "code",
      "metadata": {
        "id": "-EXcho7GPFco",
        "colab_type": "code",
        "colab": {}
      },
      "source": [
        "plt.figure(figsize=(20,10))\n",
        "for i in range (5):\n",
        "  plt.subplot(1,5,i+1)\n",
        "  img=cv2.cvtColor(test_X[i].reshape(224,224,3),cv2.COLOR_BGR2RGB)\n",
        "  plt.imshow(img)\n",
        "for i in range (5):\n",
        "  plt.subplot(2,5,i+1)\n",
        "  img=cv2.cvtColor(test_X[5+i].reshape(224,224,3),cv2.COLOR_BGR2RGB)\n",
        "  plt.imshow(img)\n",
        "\n",
        "plt.show()\n",
        "\n",
        "print(np.argmax(model.predict(test_X[0:10]),axis=1))"
      ],
      "execution_count": 0,
      "outputs": []
    },
    {
      "cell_type": "code",
      "metadata": {
        "id": "duFrbsrv7m2k",
        "colab_type": "code",
        "colab": {}
      },
      "source": [
        "model.save_weights('drive/My Drive/Colab Notebooks/data/distracted-driver-detection/my_checkpoint')"
      ],
      "execution_count": 0,
      "outputs": []
    }
  ]
}